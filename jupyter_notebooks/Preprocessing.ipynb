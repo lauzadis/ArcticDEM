{
 "cells": [
  {
   "cell_type": "code",
   "execution_count": 8,
   "metadata": {},
   "outputs": [],
   "source": [
    "import rasterio as rio\n",
    "from rasterio.plot import show\n",
    "from rasterio.mask import mask\n",
    "\n",
    "import geopandas as gpd\n",
    "\n",
    "import shapely as shp\n",
    "\n",
    "import rioxarray\n",
    "\n",
    "import gzip\n",
    "\n",
    "import pandas as pd\n",
    "import json\n",
    "import tarfile\n",
    "import wget\n",
    "import os\n",
    "import matplotlib.pyplot as plt"
   ]
  },
  {
   "cell_type": "markdown",
   "metadata": {},
   "source": [
    "### Load Index CSV"
   ]
  },
  {
   "cell_type": "code",
   "execution_count": 9,
   "metadata": {},
   "outputs": [],
   "source": [
    "index = pd.read_csv('../data/arcticdem_index_intersection.csv')\n",
    "index = index.iloc[:, 1:]\n",
    "\n",
    "index = index[['name', 'raster', 'fileurl', 'minx', 'maxx', 'miny', 'maxy']]"
   ]
  },
  {
   "cell_type": "code",
   "execution_count": 10,
   "metadata": {},
   "outputs": [
    {
     "data": {
      "text/html": [
       "<div>\n",
       "<style scoped>\n",
       "    .dataframe tbody tr th:only-of-type {\n",
       "        vertical-align: middle;\n",
       "    }\n",
       "\n",
       "    .dataframe tbody tr th {\n",
       "        vertical-align: top;\n",
       "    }\n",
       "\n",
       "    .dataframe thead th {\n",
       "        text-align: right;\n",
       "    }\n",
       "</style>\n",
       "<table border=\"1\" class=\"dataframe\">\n",
       "  <thead>\n",
       "    <tr style=\"text-align: right;\">\n",
       "      <th></th>\n",
       "      <th>name</th>\n",
       "      <th>raster</th>\n",
       "      <th>fileurl</th>\n",
       "      <th>minx</th>\n",
       "      <th>maxx</th>\n",
       "      <th>miny</th>\n",
       "      <th>maxy</th>\n",
       "    </tr>\n",
       "  </thead>\n",
       "  <tbody>\n",
       "    <tr>\n",
       "      <th>0</th>\n",
       "      <td>SETSM_GE01_20120820_1050410003FF2E00_105041000...</td>\n",
       "      <td>2018-04-12</td>\n",
       "      <td>http://data.pgc.umn.edu/elev/dem/setsm/ArcticD...</td>\n",
       "      <td>-2029284.0</td>\n",
       "      <td>-2008648.0</td>\n",
       "      <td>634174.0</td>\n",
       "      <td>653348.0</td>\n",
       "    </tr>\n",
       "    <tr>\n",
       "      <th>1</th>\n",
       "      <td>SETSM_GE01_20120812_10504100007CE100_105041000...</td>\n",
       "      <td>2017-09-29</td>\n",
       "      <td>http://data.pgc.umn.edu/elev/dem/setsm/ArcticD...</td>\n",
       "      <td>-2087418.0</td>\n",
       "      <td>-2049076.0</td>\n",
       "      <td>658334.0</td>\n",
       "      <td>683876.0</td>\n",
       "    </tr>\n",
       "    <tr>\n",
       "      <th>2</th>\n",
       "      <td>SETSM_GE01_20120820_1050410003FF2E00_105041000...</td>\n",
       "      <td>2018-04-12</td>\n",
       "      <td>http://data.pgc.umn.edu/elev/dem/setsm/ArcticD...</td>\n",
       "      <td>-2016832.0</td>\n",
       "      <td>-2005532.0</td>\n",
       "      <td>631818.0</td>\n",
       "      <td>649366.0</td>\n",
       "    </tr>\n",
       "    <tr>\n",
       "      <th>3</th>\n",
       "      <td>SETSM_GE01_20120812_10504100007A7300_105041000...</td>\n",
       "      <td>2017-09-29</td>\n",
       "      <td>http://data.pgc.umn.edu/elev/dem/setsm/ArcticD...</td>\n",
       "      <td>-2086408.0</td>\n",
       "      <td>-2047890.0</td>\n",
       "      <td>661454.0</td>\n",
       "      <td>686714.0</td>\n",
       "    </tr>\n",
       "    <tr>\n",
       "      <th>4</th>\n",
       "      <td>SETSM_GE01_20120813_1050410000870B00_105041000...</td>\n",
       "      <td>2017-09-29</td>\n",
       "      <td>http://data.pgc.umn.edu/elev/dem/setsm/ArcticD...</td>\n",
       "      <td>-2087612.0</td>\n",
       "      <td>-2047606.0</td>\n",
       "      <td>659384.0</td>\n",
       "      <td>686590.0</td>\n",
       "    </tr>\n",
       "  </tbody>\n",
       "</table>\n",
       "</div>"
      ],
      "text/plain": [
       "                                                name      raster  \\\n",
       "0  SETSM_GE01_20120820_1050410003FF2E00_105041000...  2018-04-12   \n",
       "1  SETSM_GE01_20120812_10504100007CE100_105041000...  2017-09-29   \n",
       "2  SETSM_GE01_20120820_1050410003FF2E00_105041000...  2018-04-12   \n",
       "3  SETSM_GE01_20120812_10504100007A7300_105041000...  2017-09-29   \n",
       "4  SETSM_GE01_20120813_1050410000870B00_105041000...  2017-09-29   \n",
       "\n",
       "                                             fileurl       minx       maxx  \\\n",
       "0  http://data.pgc.umn.edu/elev/dem/setsm/ArcticD... -2029284.0 -2008648.0   \n",
       "1  http://data.pgc.umn.edu/elev/dem/setsm/ArcticD... -2087418.0 -2049076.0   \n",
       "2  http://data.pgc.umn.edu/elev/dem/setsm/ArcticD... -2016832.0 -2005532.0   \n",
       "3  http://data.pgc.umn.edu/elev/dem/setsm/ArcticD... -2086408.0 -2047890.0   \n",
       "4  http://data.pgc.umn.edu/elev/dem/setsm/ArcticD... -2087612.0 -2047606.0   \n",
       "\n",
       "       miny      maxy  \n",
       "0  634174.0  653348.0  \n",
       "1  658334.0  683876.0  \n",
       "2  631818.0  649366.0  \n",
       "3  661454.0  686714.0  \n",
       "4  659384.0  686590.0  "
      ]
     },
     "execution_count": 10,
     "metadata": {},
     "output_type": "execute_result"
    }
   ],
   "source": [
    "index.head()"
   ]
  },
  {
   "cell_type": "markdown",
   "metadata": {},
   "source": [
    "### Filter for 2017\n",
    "\n",
    "#### Change 'raster' column to datetime"
   ]
  },
  {
   "cell_type": "code",
   "execution_count": 4,
   "metadata": {},
   "outputs": [],
   "source": [
    "index['raster'] = pd.to_datetime(index['raster'], format='%Y-%m-%d')"
   ]
  },
  {
   "cell_type": "code",
   "execution_count": 5,
   "metadata": {},
   "outputs": [],
   "source": [
    "index_2017 = index.loc[(index['raster'] > '2016-12-31') & (index['raster'] < '2018-01-01')]\n",
    "index_2017 = index_2017.reset_index(drop=True)"
   ]
  },
  {
   "cell_type": "code",
   "execution_count": 11,
   "metadata": {},
   "outputs": [
    {
     "data": {
      "text/html": [
       "<div>\n",
       "<style scoped>\n",
       "    .dataframe tbody tr th:only-of-type {\n",
       "        vertical-align: middle;\n",
       "    }\n",
       "\n",
       "    .dataframe tbody tr th {\n",
       "        vertical-align: top;\n",
       "    }\n",
       "\n",
       "    .dataframe thead th {\n",
       "        text-align: right;\n",
       "    }\n",
       "</style>\n",
       "<table border=\"1\" class=\"dataframe\">\n",
       "  <thead>\n",
       "    <tr style=\"text-align: right;\">\n",
       "      <th></th>\n",
       "      <th>name</th>\n",
       "      <th>raster</th>\n",
       "      <th>fileurl</th>\n",
       "      <th>minx</th>\n",
       "      <th>maxx</th>\n",
       "      <th>miny</th>\n",
       "      <th>maxy</th>\n",
       "    </tr>\n",
       "  </thead>\n",
       "  <tbody>\n",
       "    <tr>\n",
       "      <th>0</th>\n",
       "      <td>SETSM_GE01_20120812_10504100007CE100_105041000...</td>\n",
       "      <td>2017-09-29</td>\n",
       "      <td>http://data.pgc.umn.edu/elev/dem/setsm/ArcticD...</td>\n",
       "      <td>-2.087418e+06</td>\n",
       "      <td>-2049076.0</td>\n",
       "      <td>658334.0</td>\n",
       "      <td>683876.0</td>\n",
       "    </tr>\n",
       "    <tr>\n",
       "      <th>1</th>\n",
       "      <td>SETSM_GE01_20120812_10504100007A7300_105041000...</td>\n",
       "      <td>2017-09-29</td>\n",
       "      <td>http://data.pgc.umn.edu/elev/dem/setsm/ArcticD...</td>\n",
       "      <td>-2.086408e+06</td>\n",
       "      <td>-2047890.0</td>\n",
       "      <td>661454.0</td>\n",
       "      <td>686714.0</td>\n",
       "    </tr>\n",
       "    <tr>\n",
       "      <th>2</th>\n",
       "      <td>SETSM_GE01_20120813_1050410000870B00_105041000...</td>\n",
       "      <td>2017-09-29</td>\n",
       "      <td>http://data.pgc.umn.edu/elev/dem/setsm/ArcticD...</td>\n",
       "      <td>-2.087612e+06</td>\n",
       "      <td>-2047606.0</td>\n",
       "      <td>659384.0</td>\n",
       "      <td>686590.0</td>\n",
       "    </tr>\n",
       "    <tr>\n",
       "      <th>3</th>\n",
       "      <td>SETSM_W1W1_20150924_10200100430C5200_102001004...</td>\n",
       "      <td>2017-12-26</td>\n",
       "      <td>http://data.pgc.umn.edu/elev/dem/setsm/ArcticD...</td>\n",
       "      <td>-2.056290e+06</td>\n",
       "      <td>-2041814.0</td>\n",
       "      <td>662696.0</td>\n",
       "      <td>670774.0</td>\n",
       "    </tr>\n",
       "    <tr>\n",
       "      <th>4</th>\n",
       "      <td>SETSM_W1W1_20080409_1020010001144900_102001000...</td>\n",
       "      <td>2017-12-26</td>\n",
       "      <td>http://data.pgc.umn.edu/elev/dem/setsm/ArcticD...</td>\n",
       "      <td>-2.138483e+06</td>\n",
       "      <td>-2124226.0</td>\n",
       "      <td>695532.0</td>\n",
       "      <td>705274.0</td>\n",
       "    </tr>\n",
       "  </tbody>\n",
       "</table>\n",
       "</div>"
      ],
      "text/plain": [
       "                                                name     raster  \\\n",
       "0  SETSM_GE01_20120812_10504100007CE100_105041000... 2017-09-29   \n",
       "1  SETSM_GE01_20120812_10504100007A7300_105041000... 2017-09-29   \n",
       "2  SETSM_GE01_20120813_1050410000870B00_105041000... 2017-09-29   \n",
       "3  SETSM_W1W1_20150924_10200100430C5200_102001004... 2017-12-26   \n",
       "4  SETSM_W1W1_20080409_1020010001144900_102001000... 2017-12-26   \n",
       "\n",
       "                                             fileurl          minx       maxx  \\\n",
       "0  http://data.pgc.umn.edu/elev/dem/setsm/ArcticD... -2.087418e+06 -2049076.0   \n",
       "1  http://data.pgc.umn.edu/elev/dem/setsm/ArcticD... -2.086408e+06 -2047890.0   \n",
       "2  http://data.pgc.umn.edu/elev/dem/setsm/ArcticD... -2.087612e+06 -2047606.0   \n",
       "3  http://data.pgc.umn.edu/elev/dem/setsm/ArcticD... -2.056290e+06 -2041814.0   \n",
       "4  http://data.pgc.umn.edu/elev/dem/setsm/ArcticD... -2.138483e+06 -2124226.0   \n",
       "\n",
       "       miny      maxy  \n",
       "0  658334.0  683876.0  \n",
       "1  661454.0  686714.0  \n",
       "2  659384.0  686590.0  \n",
       "3  662696.0  670774.0  \n",
       "4  695532.0  705274.0  "
      ]
     },
     "execution_count": 11,
     "metadata": {},
     "output_type": "execute_result"
    }
   ],
   "source": [
    "index_2017.head()"
   ]
  },
  {
   "cell_type": "markdown",
   "metadata": {},
   "source": [
    "### Download Data\n",
    "\n",
    "**Note that the data can be opened remotely, without downloading. See the cells below.**\n",
    "\n",
    "The files are stored remotely in .tar.gz format, they must be downloaded first before they can be opened and GeoTIFF data extracted."
   ]
  },
  {
   "cell_type": "code",
   "execution_count": 7,
   "metadata": {},
   "outputs": [],
   "source": [
    "def download_file(row):\n",
    "    fileurl = row['fileurl']\n",
    "    name = row['name']\n",
    "    \n",
    "    file_dir = os.path.join('../data/rasters/', name)\n",
    "    if not os.path.exists(file_dir):\n",
    "        wget.download(fileurl, file_dir)\n",
    "    "
   ]
  },
  {
   "cell_type": "code",
   "execution_count": 8,
   "metadata": {},
   "outputs": [],
   "source": [
    "download_file(index_2017.iloc[1])"
   ]
  },
  {
   "cell_type": "code",
   "execution_count": 9,
   "metadata": {},
   "outputs": [
    {
     "name": "stdout",
     "output_type": "stream",
     "text": [
      "name       SETSM_GE01_20120812_10504100007CE100_105041000...\n",
      "raster                                   2017-09-29 00:00:00\n",
      "fileurl    http://data.pgc.umn.edu/elev/dem/setsm/ArcticD...\n",
      "minx                                            -2.08742e+06\n",
      "maxx                                            -2.04908e+06\n",
      "miny                                                  658334\n",
      "maxy                                                  683876\n",
      "Name: 0, dtype: object\n",
      "Raster: BoundingBox(left=-2086408.0, bottom=661452.0, right=-2047888.0, top=686714.0)\n",
      "CSV: BoundingBox(left=-2087418.0, bottom=658334.0, right=-2049076.0, top=683876.0)\n"
     ]
    }
   ],
   "source": [
    "url = index_2017.iloc[0]['fileurl']\n",
    "data = index_2017.iloc[0]\n",
    "print(data)\n",
    "\n",
    "src = rio.open('../data/rasters/SETSM_GE01_20120812_10504100007A7300_1050410000751500_seg1_2m_v3/SETSM_GE01_20120812_10504100007A7300_1050410000751500_seg1_2m_v3.0_dem.tif')\n",
    "bbox = rio.coords.BoundingBox(data['minx'], data['miny'], data['maxx'], data['maxy'])\n",
    "# show(src)\n",
    "print('Raster:', src.bounds)\n",
    "print('CSV:', bbox)"
   ]
  },
  {
   "cell_type": "markdown",
   "metadata": {},
   "source": [
    "### Open file from ArcticDEM server, mask, and save it"
   ]
  },
  {
   "cell_type": "markdown",
   "metadata": {},
   "source": [
    "See Rasterio Documentation: https://rasterio.readthedocs.io/en/latest/topics/datasets.html\n",
    "\n",
    "\n",
    "**NOTE: Formats can be combined (ex. a tar.gz file from a remote server) by adding a '+' character.** \n",
    "\n",
    "URL Format: **'tar' + url_to_arctic_dem + '!' + filename**\n"
   ]
  },
  {
   "cell_type": "code",
   "execution_count": null,
   "metadata": {},
   "outputs": [],
   "source": [
    "data = index_2017.iloc[0]\n",
    "url = data['fileurl']\n",
    "rio_url = 'tar+' + url + '!' + data['name'] + '_dem.tif'\n",
    "src = rio.open(rio_url)\n",
    "\n",
    "\n",
    "xmin, xmax = data['minx'], data['maxx']\n",
    "ymin, ymax = data['miny'], data['maxy']\n",
    "bbox = shapely.geometry.box(xmin, ymin, xmax, ymax)\n",
    "geo = gpd.GeoDataFrame({'geometry': bbox}, index=[0], crs=src.crs)\n",
    "geo = [json.loads(geo.to_json())['features'][0]['geometry']]\n",
    "\n",
    "\n",
    "out_img, out_transform = mask(src, shapes=geo, crop=True)\n",
    "\n",
    "out_meta = src.meta.copy()\n",
    "out_meta.update({'driver':'GTiff',\n",
    "                 'height': out_img.shape[1],\n",
    "                 'width': out_img.shape[2],\n",
    "                 'transform': out_transform,\n",
    "                 'crs': src.crs\n",
    "                })\n",
    "\n",
    "with rio.open('./test.tif', 'w', **out_meta) as dst:\n",
    "    dst.write(out_img)"
   ]
  },
  {
   "cell_type": "markdown",
   "metadata": {},
   "source": [
    "### Notes:\n",
    "\n",
    "1. **Aspect could be a useful parameter, they show interesting behavior at pingo sites.**\n",
    "2. Slope could be a useful parameter\n",
    "3. "
   ]
  }
 ],
 "metadata": {
  "kernelspec": {
   "display_name": "Python 3",
   "language": "python",
   "name": "python3"
  },
  "language_info": {
   "codemirror_mode": {
    "name": "ipython",
    "version": 3
   },
   "file_extension": ".py",
   "mimetype": "text/x-python",
   "name": "python",
   "nbconvert_exporter": "python",
   "pygments_lexer": "ipython3",
   "version": "3.7.5"
  }
 },
 "nbformat": 4,
 "nbformat_minor": 2
}
