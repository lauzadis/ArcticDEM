{
 "cells": [
  {
   "cell_type": "code",
   "execution_count": 8,
   "metadata": {},
   "outputs": [],
   "source": [
    "import rasterio as rio\n",
    "from rasterio.plot import show\n",
    "from rasterio.mask import mask\n",
    "\n",
    "import geopandas as gpd\n",
    "\n",
    "import shapely as shp\n",
    "\n",
    "import rioxarray\n",
    "\n",
    "import gzip\n",
    "\n",
    "import pandas as pd\n",
    "import json\n",
    "import tarfile\n",
    "import wget\n",
    "import os\n",
    "import matplotlib.pyplot as plt"
   ]
  },
  {
   "cell_type": "markdown",
   "metadata": {},
   "source": [
    "### Load Index CSV"
   ]
  },
  {
   "cell_type": "code",
   "execution_count": 9,
   "metadata": {},
   "outputs": [],
   "source": [
    "index = pd.read_csv('../data/arcticdem_index_intersection.csv')\n",
    "index = index.iloc[:, 1:]\n",
    "\n",
    "index = index[['name', 'raster', 'fileurl', 'minx', 'maxx', 'miny', 'maxy']]"
   ]
  },
  {
   "cell_type": "code",
   "execution_count": 10,
   "metadata": {},
   "outputs": [
    {
     "data": {
      "text/html": [
       "<div>\n",
       "<style scoped>\n",
       "    .dataframe tbody tr th:only-of-type {\n",
       "        vertical-align: middle;\n",
       "    }\n",
       "\n",
       "    .dataframe tbody tr th {\n",
       "        vertical-align: top;\n",
       "    }\n",
       "\n",
       "    .dataframe thead th {\n",
       "        text-align: right;\n",
       "    }\n",
       "</style>\n",
       "<table border=\"1\" class=\"dataframe\">\n",
       "  <thead>\n",
       "    <tr style=\"text-align: right;\">\n",
       "      <th></th>\n",
       "      <th>name</th>\n",
       "      <th>raster</th>\n",
       "      <th>fileurl</th>\n",
       "      <th>minx</th>\n",
       "      <th>maxx</th>\n",
       "      <th>miny</th>\n",
       "      <th>maxy</th>\n",
       "    </tr>\n",
       "  </thead>\n",
       "  <tbody>\n",
       "    <tr>\n",
       "      <th>0</th>\n",
       "      <td>SETSM_GE01_20120820_1050410003FF2E00_105041000...</td>\n",
       "      <td>2018-04-12</td>\n",
       "      <td>http://data.pgc.umn.edu/elev/dem/setsm/ArcticD...</td>\n",
       "      <td>-2029284.0</td>\n",
       "      <td>-2008648.0</td>\n",
       "      <td>634174.0</td>\n",
       "      <td>653348.0</td>\n",
       "    </tr>\n",
       "    <tr>\n",
       "      <th>1</th>\n",
       "      <td>SETSM_GE01_20120812_10504100007CE100_105041000...</td>\n",
       "      <td>2017-09-29</td>\n",
       "      <td>http://data.pgc.umn.edu/elev/dem/setsm/ArcticD...</td>\n",
       "      <td>-2087418.0</td>\n",
       "      <td>-2049076.0</td>\n",
       "      <td>658334.0</td>\n",
       "      <td>683876.0</td>\n",
       "    </tr>\n",
       "    <tr>\n",
       "      <th>2</th>\n",
       "      <td>SETSM_GE01_20120820_1050410003FF2E00_105041000...</td>\n",
       "      <td>2018-04-12</td>\n",
       "      <td>http://data.pgc.umn.edu/elev/dem/setsm/ArcticD...</td>\n",
       "      <td>-2016832.0</td>\n",
       "      <td>-2005532.0</td>\n",
       "      <td>631818.0</td>\n",
       "      <td>649366.0</td>\n",
       "    </tr>\n",
       "    <tr>\n",
       "      <th>3</th>\n",
       "      <td>SETSM_GE01_20120812_10504100007A7300_105041000...</td>\n",
       "      <td>2017-09-29</td>\n",
       "      <td>http://data.pgc.umn.edu/elev/dem/setsm/ArcticD...</td>\n",
       "      <td>-2086408.0</td>\n",
       "      <td>-2047890.0</td>\n",
       "      <td>661454.0</td>\n",
       "      <td>686714.0</td>\n",
       "    </tr>\n",
       "    <tr>\n",
       "      <th>4</th>\n",
       "      <td>SETSM_GE01_20120813_1050410000870B00_105041000...</td>\n",
       "      <td>2017-09-29</td>\n",
       "      <td>http://data.pgc.umn.edu/elev/dem/setsm/ArcticD...</td>\n",
       "      <td>-2087612.0</td>\n",
       "      <td>-2047606.0</td>\n",
       "      <td>659384.0</td>\n",
       "      <td>686590.0</td>\n",
       "    </tr>\n",
       "  </tbody>\n",
       "</table>\n",
       "</div>"
      ],
      "text/plain": [
       "                                                name      raster  \\\n",
       "0  SETSM_GE01_20120820_1050410003FF2E00_105041000...  2018-04-12   \n",
       "1  SETSM_GE01_20120812_10504100007CE100_105041000...  2017-09-29   \n",
       "2  SETSM_GE01_20120820_1050410003FF2E00_105041000...  2018-04-12   \n",
       "3  SETSM_GE01_20120812_10504100007A7300_105041000...  2017-09-29   \n",
       "4  SETSM_GE01_20120813_1050410000870B00_105041000...  2017-09-29   \n",
       "\n",
       "                                             fileurl       minx       maxx  \\\n",
       "0  http://data.pgc.umn.edu/elev/dem/setsm/ArcticD... -2029284.0 -2008648.0   \n",
       "1  http://data.pgc.umn.edu/elev/dem/setsm/ArcticD... -2087418.0 -2049076.0   \n",
       "2  http://data.pgc.umn.edu/elev/dem/setsm/ArcticD... -2016832.0 -2005532.0   \n",
       "3  http://data.pgc.umn.edu/elev/dem/setsm/ArcticD... -2086408.0 -2047890.0   \n",
       "4  http://data.pgc.umn.edu/elev/dem/setsm/ArcticD... -2087612.0 -2047606.0   \n",
       "\n",
       "       miny      maxy  \n",
       "0  634174.0  653348.0  \n",
       "1  658334.0  683876.0  \n",
       "2  631818.0  649366.0  \n",
       "3  661454.0  686714.0  \n",
       "4  659384.0  686590.0  "
      ]
     },
     "execution_count": 10,
     "metadata": {},
     "output_type": "execute_result"
    }
   ],
   "source": [
    "index.head()"
   ]
  },
  {
   "cell_type": "markdown",
   "metadata": {},
   "source": [
    "### Filter for 2017\n",
    "\n",
    "#### Change 'raster' column to datetime"
   ]
  },
  {
   "cell_type": "code",
   "execution_count": 4,
   "metadata": {},
   "outputs": [],
   "source": [
    "index['raster'] = pd.to_datetime(index['raster'], format='%Y-%m-%d')"
   ]
  },
  {
   "cell_type": "code",
   "execution_count": 5,
   "metadata": {},
   "outputs": [],
   "source": [
    "index_2017 = index.loc[(index['raster'] > '2016-12-31') & (index['raster'] < '2018-01-01')]\n",
    "index_2017 = index_2017.reset_index(drop=True)"
   ]
  },
  {
   "cell_type": "code",
   "execution_count": 11,
   "metadata": {},
   "outputs": [
    {
     "data": {
      "text/html": [
       "<div>\n",
       "<style scoped>\n",
       "    .dataframe tbody tr th:only-of-type {\n",
       "        vertical-align: middle;\n",
       "    }\n",
       "\n",
       "    .dataframe tbody tr th {\n",
       "        vertical-align: top;\n",
       "    }\n",
       "\n",
       "    .dataframe thead th {\n",
       "        text-align: right;\n",
       "    }\n",
       "</style>\n",
       "<table border=\"1\" class=\"dataframe\">\n",
       "  <thead>\n",
       "    <tr style=\"text-align: right;\">\n",
       "      <th></th>\n",
       "      <th>name</th>\n",
       "      <th>raster</th>\n",
       "      <th>fileurl</th>\n",
       "      <th>minx</th>\n",
       "      <th>maxx</th>\n",
       "      <th>miny</th>\n",
       "      <th>maxy</th>\n",
       "    </tr>\n",
       "  </thead>\n",
       "  <tbody>\n",
       "    <tr>\n",
       "      <th>0</th>\n",
       "      <td>SETSM_GE01_20120812_10504100007CE100_105041000...</td>\n",
       "      <td>2017-09-29</td>\n",
       "      <td>http://data.pgc.umn.edu/elev/dem/setsm/ArcticD...</td>\n",
       "      <td>-2.087418e+06</td>\n",
       "      <td>-2049076.0</td>\n",
       "      <td>658334.0</td>\n",
       "      <td>683876.0</td>\n",
       "    </tr>\n",
       "    <tr>\n",
       "      <th>1</th>\n",
       "      <td>SETSM_GE01_20120812_10504100007A7300_105041000...</td>\n",
       "      <td>2017-09-29</td>\n",
       "      <td>http://data.pgc.umn.edu/elev/dem/setsm/ArcticD...</td>\n",
       "      <td>-2.086408e+06</td>\n",
       "      <td>-2047890.0</td>\n",
       "      <td>661454.0</td>\n",
       "      <td>686714.0</td>\n",
       "    </tr>\n",
       "    <tr>\n",
       "      <th>2</th>\n",
       "      <td>SETSM_GE01_20120813_1050410000870B00_105041000...</td>\n",
       "      <td>2017-09-29</td>\n",
       "      <td>http://data.pgc.umn.edu/elev/dem/setsm/ArcticD...</td>\n",
       "      <td>-2.087612e+06</td>\n",
       "      <td>-2047606.0</td>\n",
       "      <td>659384.0</td>\n",
       "      <td>686590.0</td>\n",
       "    </tr>\n",
       "    <tr>\n",
       "      <th>3</th>\n",
       "      <td>SETSM_W1W1_20150924_10200100430C5200_102001004...</td>\n",
       "      <td>2017-12-26</td>\n",
       "      <td>http://data.pgc.umn.edu/elev/dem/setsm/ArcticD...</td>\n",
       "      <td>-2.056290e+06</td>\n",
       "      <td>-2041814.0</td>\n",
       "      <td>662696.0</td>\n",
       "      <td>670774.0</td>\n",
       "    </tr>\n",
       "    <tr>\n",
       "      <th>4</th>\n",
       "      <td>SETSM_W1W1_20080409_1020010001144900_102001000...</td>\n",
       "      <td>2017-12-26</td>\n",
       "      <td>http://data.pgc.umn.edu/elev/dem/setsm/ArcticD...</td>\n",
       "      <td>-2.138483e+06</td>\n",
       "      <td>-2124226.0</td>\n",
       "      <td>695532.0</td>\n",
       "      <td>705274.0</td>\n",
       "    </tr>\n",
       "  </tbody>\n",
       "</table>\n",
       "</div>"
      ],
      "text/plain": [
       "                                                name     raster  \\\n",
       "0  SETSM_GE01_20120812_10504100007CE100_105041000... 2017-09-29   \n",
       "1  SETSM_GE01_20120812_10504100007A7300_105041000... 2017-09-29   \n",
       "2  SETSM_GE01_20120813_1050410000870B00_105041000... 2017-09-29   \n",
       "3  SETSM_W1W1_20150924_10200100430C5200_102001004... 2017-12-26   \n",
       "4  SETSM_W1W1_20080409_1020010001144900_102001000... 2017-12-26   \n",
       "\n",
       "                                             fileurl          minx       maxx  \\\n",
       "0  http://data.pgc.umn.edu/elev/dem/setsm/ArcticD... -2.087418e+06 -2049076.0   \n",
       "1  http://data.pgc.umn.edu/elev/dem/setsm/ArcticD... -2.086408e+06 -2047890.0   \n",
       "2  http://data.pgc.umn.edu/elev/dem/setsm/ArcticD... -2.087612e+06 -2047606.0   \n",
       "3  http://data.pgc.umn.edu/elev/dem/setsm/ArcticD... -2.056290e+06 -2041814.0   \n",
       "4  http://data.pgc.umn.edu/elev/dem/setsm/ArcticD... -2.138483e+06 -2124226.0   \n",
       "\n",
       "       miny      maxy  \n",
       "0  658334.0  683876.0  \n",
       "1  661454.0  686714.0  \n",
       "2  659384.0  686590.0  \n",
       "3  662696.0  670774.0  \n",
       "4  695532.0  705274.0  "
      ]
     },
     "execution_count": 11,
     "metadata": {},
     "output_type": "execute_result"
    }
   ],
   "source": [
    "index_2017.head()"
   ]
  },
  {
   "cell_type": "markdown",
   "metadata": {},
   "source": [
    "### Download Data\n",
    "\n",
    "**Note that the data can be opened remotely, without downloading. See the cells below.**\n",
    "\n",
    "The files are stored remotely in .tar.gz format, they must be downloaded first before they can be opened and GeoTIFF data extracted."
   ]
  },
  {
   "cell_type": "code",
   "execution_count": 7,
   "metadata": {},
   "outputs": [],
   "source": [
    "def download_file(row):\n",
    "    fileurl = row['fileurl']\n",
    "    name = row['name']\n",
    "    \n",
    "    file_dir = os.path.join('../data/rasters/', name)\n",
    "    if not os.path.exists(file_dir):\n",
    "        wget.download(fileurl, file_dir)\n",
    "    "
   ]
  },
  {
   "cell_type": "code",
   "execution_count": 8,
   "metadata": {},
   "outputs": [],
   "source": [
    "download_file(index_2017.iloc[1])"
   ]
  },
  {
   "cell_type": "code",
   "execution_count": 9,
   "metadata": {},
   "outputs": [
    {
     "name": "stdout",
     "output_type": "stream",
     "text": [
      "name       SETSM_GE01_20120812_10504100007CE100_105041000...\n",
      "raster                                   2017-09-29 00:00:00\n",
      "fileurl    http://data.pgc.umn.edu/elev/dem/setsm/ArcticD...\n",
      "minx                                            -2.08742e+06\n",
      "maxx                                            -2.04908e+06\n",
      "miny                                                  658334\n",
      "maxy                                                  683876\n",
      "Name: 0, dtype: object\n",
      "Raster: BoundingBox(left=-2086408.0, bottom=661452.0, right=-2047888.0, top=686714.0)\n",
      "CSV: BoundingBox(left=-2087418.0, bottom=658334.0, right=-2049076.0, top=683876.0)\n"
     ]
    }
   ],
   "source": [
    "url = index_2017.iloc[0]['fileurl']\n",
    "data = index_2017.iloc[0]\n",
    "print(data)\n",
    "\n",
    "src = rio.open('../data/rasters/SETSM_GE01_20120812_10504100007A7300_1050410000751500_seg1_2m_v3/SETSM_GE01_20120812_10504100007A7300_1050410000751500_seg1_2m_v3.0_dem.tif')\n",
    "bbox = rio.coords.BoundingBox(data['minx'], data['miny'], data['maxx'], data['maxy'])\n",
    "# show(src)\n",
    "print('Raster:', src.bounds)\n",
    "print('CSV:', bbox)"
   ]
  },
  {
   "cell_type": "markdown",
   "metadata": {},
   "source": [
    "### Open file from ArcticDEM server, mask, and save it"
   ]
  },
  {
   "cell_type": "markdown",
   "metadata": {},
   "source": [
    "See Rasterio Documentation: https://rasterio.readthedocs.io/en/latest/topics/datasets.html\n",
    "\n",
    "\n",
    "**NOTE: Formats can be combined (ex. a tar.gz file from a remote server) by adding a '+' character.** \n",
    "\n",
    "URL Format: **'tar' + url_to_arctic_dem + '!' + filename**\n"
   ]
  },
  {
   "cell_type": "code",
   "execution_count": null,
   "metadata": {},
   "outputs": [],
   "source": [
    "data = index_2017.iloc[0]\n",
    "url = data['fileurl']\n",
    "rio_url = 'tar+' + url + '!' + data['name'] + '_dem.tif'\n",
    "src = rio.open(rio_url)\n",
    "\n",
    "\n",
    "xmin, xmax = data['minx'], data['maxx']\n",
    "ymin, ymax = data['miny'], data['maxy']\n",
    "bbox = shapely.geometry.box(xmin, ymin, xmax, ymax)\n",
    "geo = gpd.GeoDataFrame({'geometry': bbox}, index=[0], crs=src.crs)\n",
    "geo = [json.loads(geo.to_json())['features'][0]['geometry']]\n",
    "\n",
    "\n",
    "out_img, out_transform = mask(src, shapes=geo, crop=True)\n",
    "\n",
    "out_meta = src.meta.copy()\n",
    "out_meta.update({'driver':'GTiff',\n",
    "                 'height': out_img.shape[1],\n",
    "                 'width': out_img.shape[2],\n",
    "                 'transform': out_transform,\n",
    "                 'crs': src.crs\n",
    "                })\n",
    "\n",
    "with rio.open('./test.tif', 'w', **out_meta) as dst:\n",
    "    dst.write(out_img)"
   ]
  },
  {
   "cell_type": "markdown",
   "metadata": {},
   "source": [
    "### Notes:\n",
    "\n",
    "1. **Aspect could be a useful parameter, they show interesting behavior at pingo sites.**\n",
    "2. Slope could be a useful parameter\n",
    "3. "
   ]
  },
  {
   "cell_type": "markdown",
   "metadata": {},
   "source": [
    "### Find overlap of all 2017 rasters\n",
    "\n",
    "If the rasters overlap, then we will consider them grouped, and combine them with a mosaic operation later. \n",
    "\n",
    "Otherwise they will be in their own group / raster.\n",
    "\n",
    "We will use the bounding box of the rasters (minx, maxx, miny, maxy) to find the overlap."
   ]
  },
  {
   "cell_type": "code",
   "execution_count": 13,
   "metadata": {},
   "outputs": [
    {
     "data": {
      "text/html": [
       "<div>\n",
       "<style scoped>\n",
       "    .dataframe tbody tr th:only-of-type {\n",
       "        vertical-align: middle;\n",
       "    }\n",
       "\n",
       "    .dataframe tbody tr th {\n",
       "        vertical-align: top;\n",
       "    }\n",
       "\n",
       "    .dataframe thead th {\n",
       "        text-align: right;\n",
       "    }\n",
       "</style>\n",
       "<table border=\"1\" class=\"dataframe\">\n",
       "  <thead>\n",
       "    <tr style=\"text-align: right;\">\n",
       "      <th></th>\n",
       "      <th>name</th>\n",
       "      <th>raster</th>\n",
       "      <th>fileurl</th>\n",
       "      <th>minx</th>\n",
       "      <th>maxx</th>\n",
       "      <th>miny</th>\n",
       "      <th>maxy</th>\n",
       "    </tr>\n",
       "  </thead>\n",
       "  <tbody>\n",
       "    <tr>\n",
       "      <th>0</th>\n",
       "      <td>SETSM_GE01_20120812_10504100007CE100_105041000...</td>\n",
       "      <td>2017-09-29</td>\n",
       "      <td>http://data.pgc.umn.edu/elev/dem/setsm/ArcticD...</td>\n",
       "      <td>-2.087418e+06</td>\n",
       "      <td>-2049076.0</td>\n",
       "      <td>658334.000000</td>\n",
       "      <td>683876.000000</td>\n",
       "    </tr>\n",
       "    <tr>\n",
       "      <th>1</th>\n",
       "      <td>SETSM_GE01_20120812_10504100007A7300_105041000...</td>\n",
       "      <td>2017-09-29</td>\n",
       "      <td>http://data.pgc.umn.edu/elev/dem/setsm/ArcticD...</td>\n",
       "      <td>-2.086408e+06</td>\n",
       "      <td>-2047890.0</td>\n",
       "      <td>661454.000000</td>\n",
       "      <td>686714.000000</td>\n",
       "    </tr>\n",
       "    <tr>\n",
       "      <th>2</th>\n",
       "      <td>SETSM_GE01_20120813_1050410000870B00_105041000...</td>\n",
       "      <td>2017-09-29</td>\n",
       "      <td>http://data.pgc.umn.edu/elev/dem/setsm/ArcticD...</td>\n",
       "      <td>-2.087612e+06</td>\n",
       "      <td>-2047606.0</td>\n",
       "      <td>659384.000000</td>\n",
       "      <td>686590.000000</td>\n",
       "    </tr>\n",
       "    <tr>\n",
       "      <th>3</th>\n",
       "      <td>SETSM_W1W1_20150924_10200100430C5200_102001004...</td>\n",
       "      <td>2017-12-26</td>\n",
       "      <td>http://data.pgc.umn.edu/elev/dem/setsm/ArcticD...</td>\n",
       "      <td>-2.056290e+06</td>\n",
       "      <td>-2041814.0</td>\n",
       "      <td>662696.000000</td>\n",
       "      <td>670774.000000</td>\n",
       "    </tr>\n",
       "    <tr>\n",
       "      <th>4</th>\n",
       "      <td>SETSM_W1W1_20080409_1020010001144900_102001000...</td>\n",
       "      <td>2017-12-26</td>\n",
       "      <td>http://data.pgc.umn.edu/elev/dem/setsm/ArcticD...</td>\n",
       "      <td>-2.138483e+06</td>\n",
       "      <td>-2124226.0</td>\n",
       "      <td>695532.000000</td>\n",
       "      <td>705274.000000</td>\n",
       "    </tr>\n",
       "    <tr>\n",
       "      <th>...</th>\n",
       "      <td>...</td>\n",
       "      <td>...</td>\n",
       "      <td>...</td>\n",
       "      <td>...</td>\n",
       "      <td>...</td>\n",
       "      <td>...</td>\n",
       "      <td>...</td>\n",
       "    </tr>\n",
       "    <tr>\n",
       "      <th>460</th>\n",
       "      <td>SETSM_WV03_20170617_104001002F43DB00_104001002...</td>\n",
       "      <td>2017-12-26</td>\n",
       "      <td>http://data.pgc.umn.edu/elev/dem/setsm/ArcticD...</td>\n",
       "      <td>-2.124364e+06</td>\n",
       "      <td>-2108836.0</td>\n",
       "      <td>654464.000000</td>\n",
       "      <td>673376.000000</td>\n",
       "    </tr>\n",
       "    <tr>\n",
       "      <th>461</th>\n",
       "      <td>SETSM_WV03_20160830_1040010021B1EE00_104001002...</td>\n",
       "      <td>2017-09-29</td>\n",
       "      <td>http://data.pgc.umn.edu/elev/dem/setsm/ArcticD...</td>\n",
       "      <td>-2.138483e+06</td>\n",
       "      <td>-2136288.0</td>\n",
       "      <td>682209.615846</td>\n",
       "      <td>689474.635247</td>\n",
       "    </tr>\n",
       "    <tr>\n",
       "      <th>462</th>\n",
       "      <td>SETSM_WV03_20150513_104001000BC50400_104001000...</td>\n",
       "      <td>2017-09-29</td>\n",
       "      <td>http://data.pgc.umn.edu/elev/dem/setsm/ArcticD...</td>\n",
       "      <td>-2.138483e+06</td>\n",
       "      <td>-2092322.0</td>\n",
       "      <td>662130.000000</td>\n",
       "      <td>689049.191298</td>\n",
       "    </tr>\n",
       "    <tr>\n",
       "      <th>463</th>\n",
       "      <td>SETSM_WV03_20161018_1040010025403900_104001002...</td>\n",
       "      <td>2017-09-29</td>\n",
       "      <td>http://data.pgc.umn.edu/elev/dem/setsm/ArcticD...</td>\n",
       "      <td>-2.138483e+06</td>\n",
       "      <td>-2136704.0</td>\n",
       "      <td>682577.660839</td>\n",
       "      <td>689486.199277</td>\n",
       "    </tr>\n",
       "    <tr>\n",
       "      <th>464</th>\n",
       "      <td>SETSM_WV03_20160616_104001001D6A4300_104001001...</td>\n",
       "      <td>2017-09-29</td>\n",
       "      <td>http://data.pgc.umn.edu/elev/dem/setsm/ArcticD...</td>\n",
       "      <td>-2.138483e+06</td>\n",
       "      <td>-2136624.0</td>\n",
       "      <td>682742.159995</td>\n",
       "      <td>688804.013210</td>\n",
       "    </tr>\n",
       "  </tbody>\n",
       "</table>\n",
       "<p>465 rows × 7 columns</p>\n",
       "</div>"
      ],
      "text/plain": [
       "                                                  name     raster  \\\n",
       "0    SETSM_GE01_20120812_10504100007CE100_105041000... 2017-09-29   \n",
       "1    SETSM_GE01_20120812_10504100007A7300_105041000... 2017-09-29   \n",
       "2    SETSM_GE01_20120813_1050410000870B00_105041000... 2017-09-29   \n",
       "3    SETSM_W1W1_20150924_10200100430C5200_102001004... 2017-12-26   \n",
       "4    SETSM_W1W1_20080409_1020010001144900_102001000... 2017-12-26   \n",
       "..                                                 ...        ...   \n",
       "460  SETSM_WV03_20170617_104001002F43DB00_104001002... 2017-12-26   \n",
       "461  SETSM_WV03_20160830_1040010021B1EE00_104001002... 2017-09-29   \n",
       "462  SETSM_WV03_20150513_104001000BC50400_104001000... 2017-09-29   \n",
       "463  SETSM_WV03_20161018_1040010025403900_104001002... 2017-09-29   \n",
       "464  SETSM_WV03_20160616_104001001D6A4300_104001001... 2017-09-29   \n",
       "\n",
       "                                               fileurl          minx  \\\n",
       "0    http://data.pgc.umn.edu/elev/dem/setsm/ArcticD... -2.087418e+06   \n",
       "1    http://data.pgc.umn.edu/elev/dem/setsm/ArcticD... -2.086408e+06   \n",
       "2    http://data.pgc.umn.edu/elev/dem/setsm/ArcticD... -2.087612e+06   \n",
       "3    http://data.pgc.umn.edu/elev/dem/setsm/ArcticD... -2.056290e+06   \n",
       "4    http://data.pgc.umn.edu/elev/dem/setsm/ArcticD... -2.138483e+06   \n",
       "..                                                 ...           ...   \n",
       "460  http://data.pgc.umn.edu/elev/dem/setsm/ArcticD... -2.124364e+06   \n",
       "461  http://data.pgc.umn.edu/elev/dem/setsm/ArcticD... -2.138483e+06   \n",
       "462  http://data.pgc.umn.edu/elev/dem/setsm/ArcticD... -2.138483e+06   \n",
       "463  http://data.pgc.umn.edu/elev/dem/setsm/ArcticD... -2.138483e+06   \n",
       "464  http://data.pgc.umn.edu/elev/dem/setsm/ArcticD... -2.138483e+06   \n",
       "\n",
       "          maxx           miny           maxy  \n",
       "0   -2049076.0  658334.000000  683876.000000  \n",
       "1   -2047890.0  661454.000000  686714.000000  \n",
       "2   -2047606.0  659384.000000  686590.000000  \n",
       "3   -2041814.0  662696.000000  670774.000000  \n",
       "4   -2124226.0  695532.000000  705274.000000  \n",
       "..         ...            ...            ...  \n",
       "460 -2108836.0  654464.000000  673376.000000  \n",
       "461 -2136288.0  682209.615846  689474.635247  \n",
       "462 -2092322.0  662130.000000  689049.191298  \n",
       "463 -2136704.0  682577.660839  689486.199277  \n",
       "464 -2136624.0  682742.159995  688804.013210  \n",
       "\n",
       "[465 rows x 7 columns]"
      ]
     },
     "execution_count": 13,
     "metadata": {},
     "output_type": "execute_result"
    }
   ],
   "source": [
    "index_2017"
   ]
  },
  {
   "cell_type": "markdown",
   "metadata": {},
   "source": [
    "### Function to create RasterIO BoundingBoxes for each Raster"
   ]
  },
  {
   "cell_type": "code",
   "execution_count": 84,
   "metadata": {},
   "outputs": [],
   "source": [
    "def create_boundingbox(raster):\n",
    "    raster['bbox'] = rio.coords.BoundingBox(raster['minx'], raster['miny'], raster['maxx'], raster['maxy'])\n",
    "    return raster"
   ]
  },
  {
   "cell_type": "code",
   "execution_count": 90,
   "metadata": {},
   "outputs": [],
   "source": [
    "index_2017 = index_2017.apply(create_boundingbox, axis='columns')"
   ]
  },
  {
   "cell_type": "code",
   "execution_count": 91,
   "metadata": {},
   "outputs": [],
   "source": [
    "def find_overlaps(raster):\n",
    "    raster['overlap'] = []\n",
    "    \n",
    "    # Check all other rasters\n",
    "    for index, row in index_2017.iterrows():\n",
    "        if not rio.coords.disjoint_bounds(raster['bbox'], row['bbox']):  # then they are overlapping\n",
    "            raster['overlap'].append(row['name'])\n",
    "            \n",
    "    raster['overlap'] = pd.Series(raster['overlap'])\n",
    "    return raster"
   ]
  },
  {
   "cell_type": "code",
   "execution_count": 93,
   "metadata": {},
   "outputs": [
    {
     "data": {
      "text/plain": [
       "0      0     SETSM_GE01_20120812_10504100007CE100_105...\n",
       "1      0     SETSM_GE01_20120812_10504100007CE100_105...\n",
       "2      0     SETSM_GE01_20120812_10504100007CE100_105...\n",
       "3      0     SETSM_GE01_20120812_10504100007CE100_105...\n",
       "4      0     SETSM_W1W1_20080409_1020010001144900_102...\n",
       "                             ...                        \n",
       "460    0     SETSM_WV01_20150412_102001003C896700_102...\n",
       "461    0     SETSM_WV01_20131014_102001002596D400_102...\n",
       "462    0     SETSM_WV01_20131014_102001002596D400_102...\n",
       "463    0     SETSM_WV01_20131014_102001002596D400_102...\n",
       "464    0     SETSM_WV01_20131014_102001002596D400_102...\n",
       "Name: overlap, Length: 465, dtype: object"
      ]
     },
     "execution_count": 93,
     "metadata": {},
     "output_type": "execute_result"
    }
   ],
   "source": [
    "index_2017 = index_2017.apply(find_overlaps, axis='columns')\n"
   ]
  },
  {
   "cell_type": "markdown",
   "metadata": {},
   "source": [
    "### Get Amount of Overlap for Each Raster"
   ]
  },
  {
   "cell_type": "code",
   "execution_count": 98,
   "metadata": {},
   "outputs": [],
   "source": [
    "index_2017['num_overlap'] = index_2017['overlap'].apply(lambda x: len(x))"
   ]
  },
  {
   "cell_type": "code",
   "execution_count": 102,
   "metadata": {},
   "outputs": [
    {
     "name": "stdout",
     "output_type": "stream",
     "text": [
      "Max Overlap: 115\n",
      "Min Overlap: 5\n",
      "Mean Overlap: 49.589247311827954\n"
     ]
    }
   ],
   "source": [
    "print('Max Overlap:', index_2017['num_overlap'].max())\n",
    "print('Min Overlap:', index_2017['num_overlap'].min())\n",
    "print('Mean Overlap:', index_2017['num_overlap'].mean())"
   ]
  },
  {
   "cell_type": "markdown",
   "metadata": {},
   "source": [
    "This means the average mosaic will be composed of 50 tiles ideally."
   ]
  },
  {
   "cell_type": "markdown",
   "metadata": {},
   "source": [
    "## Check for overlap chains"
   ]
  },
  {
   "cell_type": "code",
   "execution_count": null,
   "metadata": {},
   "outputs": [],
   "source": []
  }
 ],
 "metadata": {
  "kernelspec": {
   "display_name": "Python 3",
   "language": "python",
   "name": "python3"
  },
  "language_info": {
   "codemirror_mode": {
    "name": "ipython",
    "version": 3
   },
   "file_extension": ".py",
   "mimetype": "text/x-python",
   "name": "python",
   "nbconvert_exporter": "python",
   "pygments_lexer": "ipython3",
   "version": "3.7.5"
  }
 },
 "nbformat": 4,
 "nbformat_minor": 2
}
