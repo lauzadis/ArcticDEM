{
 "cells": [
  {
   "cell_type": "markdown",
   "metadata": {},
   "source": [
    "# Grid Data Extraction\n",
    "\n",
    "We will extract the DEM's for each grid in the filtered grid shapefile.\n",
    "\n",
    "1. Open the ArcticDEM Strip Shapefile\n",
    "2. Open the filtered grid shapefile\n",
    "3. Filter the Strip shapefile to only include DEMs which intersect the grids (this reduces the Strip count to 378)"
   ]
  },
  {
   "cell_type": "markdown",
   "metadata": {},
   "source": [
    "## Imports"
   ]
  },
  {
   "cell_type": "code",
   "execution_count": 4,
   "metadata": {},
   "outputs": [
    {
     "name": "stdout",
     "output_type": "stream",
     "text": [
      "Collecting pandarallel\n",
      "  Downloading https://files.pythonhosted.org/packages/5b/27/bfa87ad2c5c202834683db647084fe6908e5e6f54c67270fc3544beabffa/pandarallel-1.4.5.tar.gz\n",
      "Requirement already satisfied: dill in /opt/conda/lib/python3.6/site-packages (from pandarallel) (0.2.9)\n",
      "Building wheels for collected packages: pandarallel\n",
      "  Building wheel for pandarallel (setup.py) ... \u001b[?25ldone\n",
      "\u001b[?25h  Created wheel for pandarallel: filename=pandarallel-1.4.5-cp36-none-any.whl size=16025 sha256=e5047dc8bc1788804f267159b9a7df9c6a33a613c0f7d4a29b2786eac87ae657\n",
      "  Stored in directory: /home/jovyan/.cache/pip/wheels/fa/70/d9/6a27d7fdddb6a7c10af68fffaf6f0a96846c750a840280f7bc\n",
      "Successfully built pandarallel\n",
      "Installing collected packages: pandarallel\n",
      "Successfully installed pandarallel-1.4.5\n"
     ]
    }
   ],
   "source": [
    "!pip install pandarallel --user"
   ]
  },
  {
   "cell_type": "code",
   "execution_count": 2,
   "metadata": {},
   "outputs": [],
   "source": [
    "# GIS\n",
    "import geopandas as gpd\n",
    "import rasterio as rio\n",
    "from rasterio.mask import mask\n",
    "import json\n",
    "\n",
    "# Multiprocessing \n",
    "from functools import partial\n",
    "from multiprocessing import Pool\n",
    "from pandarallel import pandarallel\n",
    "\n",
    "# General Use\n",
    "import os\n",
    "import pandas as pd\n",
    "import numpy as np\n",
    "import glob\n",
    "\n",
    "# Opening files which fail to open\n",
    "import tarfile\n",
    "import gzip\n",
    "import urllib"
   ]
  },
  {
   "cell_type": "markdown",
   "metadata": {},
   "source": [
    "## Create a new index\n",
    "\n",
    "We will create an index of the DEM strips using this new filtered shapefile."
   ]
  },
  {
   "cell_type": "code",
   "execution_count": 7,
   "metadata": {},
   "outputs": [
    {
     "name": "stdout",
     "output_type": "stream",
     "text": [
      "Read index from file\n"
     ]
    }
   ],
   "source": [
    "if os.path.exists('../../data/rasters.pkl'):\n",
    "    index = pd.read_pickle('../../data/rasters.pkl')\n",
    "    print('Read index from file')\n",
    "else:\n",
    "    print('Creating new index from shapefile.')\n",
    "    index = gpd.read_file('../../data/Filtered_ArcticDEM_Strip_Index_Rel7/ArcticDEM_Strip_Index_Rel7.shp')\n",
    "    index = index.set_index('name', drop=True)\n",
    "    index = index[['acquisitio', 'fileurl', 'dx', 'dy', 'dz', 'geometry', 'sensor1']]\n",
    "    index.to_pickle('../../data/rasters.pkl')"
   ]
  },
  {
   "cell_type": "code",
   "execution_count": 8,
   "metadata": {},
   "outputs": [
    {
     "data": {
      "text/html": [
       "<div>\n",
       "<style scoped>\n",
       "    .dataframe tbody tr th:only-of-type {\n",
       "        vertical-align: middle;\n",
       "    }\n",
       "\n",
       "    .dataframe tbody tr th {\n",
       "        vertical-align: top;\n",
       "    }\n",
       "\n",
       "    .dataframe thead th {\n",
       "        text-align: right;\n",
       "    }\n",
       "</style>\n",
       "<table border=\"1\" class=\"dataframe\">\n",
       "  <thead>\n",
       "    <tr style=\"text-align: right;\">\n",
       "      <th></th>\n",
       "      <th>acquisitio</th>\n",
       "      <th>fileurl</th>\n",
       "      <th>dx</th>\n",
       "      <th>dy</th>\n",
       "      <th>dz</th>\n",
       "      <th>geometry</th>\n",
       "    </tr>\n",
       "    <tr>\n",
       "      <th>name</th>\n",
       "      <th></th>\n",
       "      <th></th>\n",
       "      <th></th>\n",
       "      <th></th>\n",
       "      <th></th>\n",
       "      <th></th>\n",
       "    </tr>\n",
       "  </thead>\n",
       "  <tbody>\n",
       "    <tr>\n",
       "      <td>SETSM_GE01_20120812_10504100007CE100_1050410000778700_seg1_2m_v3.0</td>\n",
       "      <td>2012-08-12</td>\n",
       "      <td>http://data.pgc.umn.edu/elev/dem/setsm/ArcticD...</td>\n",
       "      <td>0.188</td>\n",
       "      <td>-0.399</td>\n",
       "      <td>-0.867</td>\n",
       "      <td>POLYGON ((-2087418.000 669438.000, -2087130.00...</td>\n",
       "    </tr>\n",
       "    <tr>\n",
       "      <td>SETSM_GE01_20120812_10504100007A7300_1050410000751500_seg1_2m_v3.0</td>\n",
       "      <td>2012-08-12</td>\n",
       "      <td>http://data.pgc.umn.edu/elev/dem/setsm/ArcticD...</td>\n",
       "      <td>-0.980</td>\n",
       "      <td>-0.374</td>\n",
       "      <td>1.334</td>\n",
       "      <td>POLYGON ((-2086408.000 672442.000, -2086400.00...</td>\n",
       "    </tr>\n",
       "    <tr>\n",
       "      <td>SETSM_GE01_20120813_1050410000870B00_1050410000847E00_seg1_2m_v3.0</td>\n",
       "      <td>2012-08-13</td>\n",
       "      <td>http://data.pgc.umn.edu/elev/dem/setsm/ArcticD...</td>\n",
       "      <td>-1.759</td>\n",
       "      <td>-2.802</td>\n",
       "      <td>0.454</td>\n",
       "      <td>POLYGON ((-2087612.000 670136.000, -2087604.00...</td>\n",
       "    </tr>\n",
       "    <tr>\n",
       "      <td>SETSM_WV01_20130411_1020010022450500_1020010021AB8500_seg1_2m_v3.0</td>\n",
       "      <td>2013-04-11</td>\n",
       "      <td>http://data.pgc.umn.edu/elev/dem/setsm/ArcticD...</td>\n",
       "      <td>-0.496</td>\n",
       "      <td>-0.160</td>\n",
       "      <td>-0.306</td>\n",
       "      <td>POLYGON ((-2168618.000 787874.000, -2168594.00...</td>\n",
       "    </tr>\n",
       "    <tr>\n",
       "      <td>SETSM_WV01_20140708_102001002F474A00_102001003026E300_seg1_2m_v3.0</td>\n",
       "      <td>2014-07-08</td>\n",
       "      <td>http://data.pgc.umn.edu/elev/dem/setsm/ArcticD...</td>\n",
       "      <td>-0.140</td>\n",
       "      <td>0.114</td>\n",
       "      <td>-1.551</td>\n",
       "      <td>POLYGON ((-2162648.000 786644.000, -2161808.00...</td>\n",
       "    </tr>\n",
       "  </tbody>\n",
       "</table>\n",
       "</div>"
      ],
      "text/plain": [
       "                                                    acquisitio  \\\n",
       "name                                                             \n",
       "SETSM_GE01_20120812_10504100007CE100_1050410000...  2012-08-12   \n",
       "SETSM_GE01_20120812_10504100007A7300_1050410000...  2012-08-12   \n",
       "SETSM_GE01_20120813_1050410000870B00_1050410000...  2012-08-13   \n",
       "SETSM_WV01_20130411_1020010022450500_1020010021...  2013-04-11   \n",
       "SETSM_WV01_20140708_102001002F474A00_1020010030...  2014-07-08   \n",
       "\n",
       "                                                                                              fileurl  \\\n",
       "name                                                                                                    \n",
       "SETSM_GE01_20120812_10504100007CE100_1050410000...  http://data.pgc.umn.edu/elev/dem/setsm/ArcticD...   \n",
       "SETSM_GE01_20120812_10504100007A7300_1050410000...  http://data.pgc.umn.edu/elev/dem/setsm/ArcticD...   \n",
       "SETSM_GE01_20120813_1050410000870B00_1050410000...  http://data.pgc.umn.edu/elev/dem/setsm/ArcticD...   \n",
       "SETSM_WV01_20130411_1020010022450500_1020010021...  http://data.pgc.umn.edu/elev/dem/setsm/ArcticD...   \n",
       "SETSM_WV01_20140708_102001002F474A00_1020010030...  http://data.pgc.umn.edu/elev/dem/setsm/ArcticD...   \n",
       "\n",
       "                                                       dx     dy     dz  \\\n",
       "name                                                                      \n",
       "SETSM_GE01_20120812_10504100007CE100_1050410000...  0.188 -0.399 -0.867   \n",
       "SETSM_GE01_20120812_10504100007A7300_1050410000... -0.980 -0.374  1.334   \n",
       "SETSM_GE01_20120813_1050410000870B00_1050410000... -1.759 -2.802  0.454   \n",
       "SETSM_WV01_20130411_1020010022450500_1020010021... -0.496 -0.160 -0.306   \n",
       "SETSM_WV01_20140708_102001002F474A00_1020010030... -0.140  0.114 -1.551   \n",
       "\n",
       "                                                                                             geometry  \n",
       "name                                                                                                   \n",
       "SETSM_GE01_20120812_10504100007CE100_1050410000...  POLYGON ((-2087418.000 669438.000, -2087130.00...  \n",
       "SETSM_GE01_20120812_10504100007A7300_1050410000...  POLYGON ((-2086408.000 672442.000, -2086400.00...  \n",
       "SETSM_GE01_20120813_1050410000870B00_1050410000...  POLYGON ((-2087612.000 670136.000, -2087604.00...  \n",
       "SETSM_WV01_20130411_1020010022450500_1020010021...  POLYGON ((-2168618.000 787874.000, -2168594.00...  \n",
       "SETSM_WV01_20140708_102001002F474A00_1020010030...  POLYGON ((-2162648.000 786644.000, -2161808.00...  "
      ]
     },
     "execution_count": 8,
     "metadata": {},
     "output_type": "execute_result"
    }
   ],
   "source": [
    "index.head()"
   ]
  },
  {
   "cell_type": "markdown",
   "metadata": {},
   "source": [
    "## Load Grid Shapefile"
   ]
  },
  {
   "cell_type": "code",
   "execution_count": 9,
   "metadata": {},
   "outputs": [],
   "source": [
    "grids = gpd.read_file('../../data/shapefiles/grid_shapefile/1km_filtered/filtered.shp')\n",
    "grids['id'] = grids['id'].astype(int)\n",
    "grids = grids.set_index('id', drop=True)"
   ]
  },
  {
   "cell_type": "markdown",
   "metadata": {},
   "source": [
    "## Extract Each Grid's Data\n",
    "\n",
    "We will iterate over the Strip frame, find each grid that it intersects, and extract the data for those grids."
   ]
  },
  {
   "cell_type": "markdown",
   "metadata": {},
   "source": [
    "#### Function to Find Raster-Grid Intersections"
   ]
  },
  {
   "cell_type": "code",
   "execution_count": 10,
   "metadata": {},
   "outputs": [],
   "source": [
    "def find_grid_intersections(raster):\n",
    "    '''\n",
    "    Given a row (Strip raster) of the index, this function returns a list of the grids it intersects.\n",
    "    '''\n",
    "    \n",
    "    intersection = []\n",
    "    for _, grid in grids.iterrows():\n",
    "        if grid['geometry'].intersects(raster['geometry']):\n",
    "            intersection.append(grid)\n",
    "    return intersection"
   ]
  },
  {
   "cell_type": "markdown",
   "metadata": {},
   "source": [
    "#### Function to Download DEM to Temp Storage, Open, and Delete (Backup Option)\n",
    "\n",
    "This function will only run if rasterio fails to open the DEM remotely."
   ]
  },
  {
   "cell_type": "code",
   "execution_count": 1,
   "metadata": {},
   "outputs": [],
   "source": [
    "def open_dem(raster):\n",
    "    '''\n",
    "    downloads file to temporary storage and then extracts the DEM, deleting afterwards\n",
    "    This is used if opening with RasterIO fails    \n",
    "    '''\n",
    "    tempfile = urllib.request.urlretrieve(raster['fileurl'], filename=None)[0]\n",
    "    \n",
    "    tar = tarfile.open(tempfile)\n",
    "    tar.extract(raster.name + '_dem.tif')\n",
    "    src = rio.open('./' + raster.name + '_dem.tif')\n",
    "    os.remove('./' + raster.name + '_dem.tif')\n",
    "    return src"
   ]
  },
  {
   "cell_type": "markdown",
   "metadata": {},
   "source": [
    "#### Function to Create Grid Rasters"
   ]
  },
  {
   "cell_type": "code",
   "execution_count": 2,
   "metadata": {},
   "outputs": [],
   "source": [
    "def mask_grids(raster, overwrite=False):\n",
    "    rio_url = 'tar+' + raster['fileurl'] + '!' + raster.name + '_dem.tif'\n",
    "    try:\n",
    "        src = rio.open(rio_url)\n",
    "    except:  # sometimes the file fails to open\n",
    "        src = open_dem(raster)\n",
    "  \n",
    "    for grid in find_grid_intersections(raster):\n",
    "        out_dir = './data/grids_01_30_2020/' + str(grid.name) + '/'\n",
    "        if not os.path.exists(out_dir):\n",
    "            os.makedirs(out_dir)\n",
    "    \n",
    "        geo = gpd.GeoDataFrame({'geometry': grid['geometry']}, index=[0], crs=src.crs)\n",
    "        geo = [json.loads(geo.to_json())['features'][0]['geometry']]\n",
    "        \n",
    "        out_img, out_transform = mask(src, shapes=geo, crop=True)\n",
    "        out_img = np.squeeze(out_img)\n",
    "\n",
    "        out_meta = src.meta.copy()\n",
    "        out_meta.update({'driver':'GTiff',\n",
    "                         'height': 501,\n",
    "                         'width': 501,\n",
    "                         'transform': out_transform,\n",
    "                         'crs': src.crs\n",
    "                        })\n",
    "        \n",
    "        \n",
    "        msk = np.ma.masked_equal(out_img, src.nodata)\n",
    "        if np.all(msk.mask):  # If all of the values are True (nodata)\n",
    "            outfile = out_dir + raster.name + '_NODATA.tif'\n",
    "        else:\n",
    "            outfile = out_dir + raster.name + '_dem.tif'\n",
    "\n",
    "        with rio.open(outfile, 'w', **out_meta) as dst:\n",
    "            dst.write(out_img, 1)\n",
    "    return"
   ]
  },
  {
   "cell_type": "markdown",
   "metadata": {},
   "source": [
    "## Check those failed to open by RasterIO\n",
    "\n",
    "Some of the rasters failed to open by RasterIO, they are marked as RASTER_NAME + '.txt' in the data directory.\n",
    "\n",
    "#### Sample Error Message\n",
    "RasterioIOError: '/vsitar/vsicurl/http://data.pgc.umn.edu/elev/dem/setsm/ArcticDEM/geocell/v3.0/2m/n69w156/SETSM_WV01_20130411_1020010022450500_1020010021AB8500_seg1_2m_v3.0.tar.gz/SETSM_WV01_20130411_1020010022450500_1020010021AB8500_seg1_2m_v3.0_dem.tif' not recognized as a supported file format."
   ]
  },
  {
   "cell_type": "code",
   "execution_count": 24,
   "metadata": {},
   "outputs": [
    {
     "name": "stdout",
     "output_type": "stream",
     "text": [
      "38\n"
     ]
    }
   ],
   "source": [
    "failed = glob.glob('../../data/grids/*.txt')\n",
    "failed = [x[x.rfind('/')+1:x.rfind('.')] for x in failed]\n",
    "print(len(failed))\n",
    "fail_index = index.loc[failed].reset_index()\n"
   ]
  },
  {
   "cell_type": "code",
   "execution_count": 27,
   "metadata": {},
   "outputs": [],
   "source": [
    "fail_index['sensor'] = fail_index['name'].apply(lambda x: x.split('_')[1])"
   ]
  },
  {
   "cell_type": "code",
   "execution_count": 28,
   "metadata": {},
   "outputs": [
    {
     "data": {
      "text/plain": [
       "WV01    23\n",
       "WV02     9\n",
       "W1W2     2\n",
       "W1W1     2\n",
       "W2W2     1\n",
       "WV03     1\n",
       "Name: sensor, dtype: int64"
      ]
     },
     "execution_count": 28,
     "metadata": {},
     "output_type": "execute_result"
    }
   ],
   "source": [
    "fail_index['sensor'].value_counts()"
   ]
  },
  {
   "cell_type": "code",
   "execution_count": null,
   "metadata": {},
   "outputs": [],
   "source": []
  }
 ],
 "metadata": {
  "kernelspec": {
   "display_name": "Python 3",
   "language": "python",
   "name": "python3"
  },
  "language_info": {
   "codemirror_mode": {
    "name": "ipython",
    "version": 3
   },
   "file_extension": ".py",
   "mimetype": "text/x-python",
   "name": "python",
   "nbconvert_exporter": "python",
   "pygments_lexer": "ipython3",
   "version": "3.6.7"
  }
 },
 "nbformat": 4,
 "nbformat_minor": 2
}
