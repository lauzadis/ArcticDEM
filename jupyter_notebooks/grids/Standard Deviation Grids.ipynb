{
 "cells": [
  {
   "cell_type": "markdown",
   "metadata": {},
   "source": [
    "## Purpose:\n",
    "\n",
    "Stack the rasters for each grid and calculate the standard deviation for each pixel."
   ]
  },
  {
   "cell_type": "code",
   "execution_count": null,
   "metadata": {},
   "outputs": [],
   "source": [
    "!pip install pandarallel --user"
   ]
  },
  {
   "cell_type": "code",
   "execution_count": 1,
   "metadata": {},
   "outputs": [],
   "source": [
    "import matplotlib.pyplot as plt\n",
    "# from pandarallel import pandarallel\n",
    "import rasterio as rio\n",
    "import pandas as pd\n",
    "import numpy as np\n",
    "import glob\n",
    "import os"
   ]
  },
  {
   "cell_type": "code",
   "execution_count": 2,
   "metadata": {},
   "outputs": [
    {
     "name": "stdout",
     "output_type": "stream",
     "text": [
      "Loaded 378 rasters\n"
     ]
    }
   ],
   "source": [
    "index = pd.read_pickle('../../data/rasters.pkl')\n",
    "print('Loaded', len(index), 'rasters')"
   ]
  },
  {
   "cell_type": "code",
   "execution_count": 3,
   "metadata": {},
   "outputs": [
    {
     "name": "stdout",
     "output_type": "stream",
     "text": [
      "Loaded 1263 grids\n"
     ]
    }
   ],
   "source": [
    "grids = pd.read_pickle('../../data/grid_data.pkl')\n",
    "print('Loaded', len(grids), 'grids')"
   ]
  },
  {
   "cell_type": "markdown",
   "metadata": {},
   "source": [
    "#### Function to stack all of a grid's rasters.\n",
    "\n",
    "Creates a numpy array of shape: (num_rasters, 501, 501)\n",
    "\n",
    "Sorted temporally so that **stack[-1,:,:]** is the most recent image."
   ]
  },
  {
   "cell_type": "code",
   "execution_count": 48,
   "metadata": {},
   "outputs": [],
   "source": [
    "def stack_rasters(grid, max_nodata=None):\n",
    "    '''\n",
    "    Stacks the grid's rasters into one numpy array\n",
    "    DIMENSIONS:\n",
    "    0: time\n",
    "    1: x\n",
    "    2: y\n",
    "    '''\n",
    "    rasters = glob.glob('../../data/grids/' + str(grid.name) + '/*v3.0_dem.tif')  # grab all rasters\n",
    "    rasters.sort(key=lambda x: x.split('_')[2])  # sort the rasters by date acquired\n",
    "\n",
    "\n",
    "    arrays = []\n",
    "    for raster in rasters:\n",
    "        dem = rio.open(raster).read(1) # Open Data        \n",
    "        mask = rio.open(raster).read_masks(1).astype(float)  # Open Mask\n",
    "        if dem.shape != (501,501):\n",
    "            print(raster)\n",
    "            return\n",
    "\n",
    "        # Calculate Amount of No Data (100 means no data at all)\n",
    "        _, counts = np.unique(mask, return_counts=True)\n",
    "        mask[mask==0] = np.nan\n",
    "        nodata_val = counts[0] / (counts[0] + counts[1]) * 100\n",
    "        \n",
    "        # Apply Laser Altimetry Correction\n",
    "        raster_name = raster[raster.rfind('/')+1:raster.rfind('_')]\n",
    "        dem = dem + index.loc[raster_name]['dz']\n",
    "        dem = dem * mask / 255  # Mask the Data (no data becomes nan)\n",
    "        \n",
    "        if max_nodata:\n",
    "            if nodata_val < max_nodata:\n",
    "                arrays.append(dem)\n",
    "\n",
    "        else:\n",
    "            arrays.append(dem)\n",
    "    \n",
    "    stack = np.stack(arrays, axis=0)\n",
    "    return stack #, pd.Series(nodatavals, name='nodata')"
   ]
  },
  {
   "cell_type": "markdown",
   "metadata": {},
   "source": [
    "#### Function to calculate the standard deviation raster of a grid\n",
    "\n",
    "Pixel-level standard deviation used to identify bodies of water"
   ]
  },
  {
   "cell_type": "code",
   "execution_count": 54,
   "metadata": {},
   "outputs": [],
   "source": [
    "def std_raster(grid):\n",
    "    out_dir = '../../data/standard_deviation_with_corner_check/'\n",
    "    outfile = out_dir + str(grid.name) + '.tif'\n",
    "    if os.path.exists(outfile):\n",
    "        return\n",
    "    \n",
    "    stack = stack_rasters(grid, max_nodata=90)  # Stack the rasters with a nodata threshold of 90% \n",
    "    stack = np.stack([raster for raster in stack if not nan_corners(raster, max_nan_corners=1)])  # Check the corners of the raster, threshold is 1\n",
    "    \n",
    "    std = np.apply_along_axis(np.nanstd, 0, stack)  # Calculate standard deviation\n",
    "    metadata = rio.open('../../data/grids/' + str(grid.name) + '/' + grid['rasters'][0] + '_dem.tif').meta  # Get Metadata\n",
    "    metadata.update({'dtype':'float64'})\n",
    "\n",
    "    # Write raster to file\n",
    "    with rio.open(out_dir + str(grid.name) + '.tif', 'w', **metadata) as dst:\n",
    "        dst.write(std, 1)\n",
    "    return"
   ]
  },
  {
   "cell_type": "markdown",
   "metadata": {},
   "source": [
    "#### Function to check the corners of each raster for nan values"
   ]
  },
  {
   "cell_type": "code",
   "execution_count": 49,
   "metadata": {},
   "outputs": [],
   "source": [
    "def nan_corners(raster, max_nan_corners=0):\n",
    "    max_x = raster.shape[0]-2\n",
    "    max_y = raster.shape[1]-2\n",
    "      \n",
    "    count = int(np.isnan(raster[0,0])) + \\\n",
    "            int(np.isnan(raster[0, max_y])) + \\\n",
    "            int(np.isnan(raster[max_x, 0])) + \\\n",
    "            int(np.isnan(raster[max_x, max_y]))\n",
    "    \n",
    "    return count > max_nan_corners"
   ]
  },
  {
   "cell_type": "code",
   "execution_count": 42,
   "metadata": {},
   "outputs": [],
   "source": [
    "stack = stack_rasters(grids.iloc[0], 90)\n"
   ]
  },
  {
   "cell_type": "code",
   "execution_count": 43,
   "metadata": {},
   "outputs": [
    {
     "data": {
      "text/plain": [
       "(11, 501, 501)"
      ]
     },
     "execution_count": 43,
     "metadata": {},
     "output_type": "execute_result"
    }
   ],
   "source": [
    "stack.shape"
   ]
  },
  {
   "cell_type": "code",
   "execution_count": 57,
   "metadata": {},
   "outputs": [
    {
     "name": "stdout",
     "output_type": "stream",
     "text": [
      "starting std\n",
      "finished std\n"
     ]
    }
   ],
   "source": [
    "std_raster(grids.iloc[0])"
   ]
  },
  {
   "cell_type": "code",
   "execution_count": null,
   "metadata": {},
   "outputs": [],
   "source": []
  }
 ],
 "metadata": {
  "kernelspec": {
   "display_name": "Python 3",
   "language": "python",
   "name": "python3"
  },
  "language_info": {
   "codemirror_mode": {
    "name": "ipython",
    "version": 3
   },
   "file_extension": ".py",
   "mimetype": "text/x-python",
   "name": "python",
   "nbconvert_exporter": "python",
   "pygments_lexer": "ipython3",
   "version": "3.6.7"
  }
 },
 "nbformat": 4,
 "nbformat_minor": 2
}
