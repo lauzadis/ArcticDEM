{
 "cells": [
  {
   "cell_type": "markdown",
   "metadata": {},
   "source": [
    "## Purpose:\n",
    "\n",
    "Stack the rasters for each grid and calculate the standard deviation for each pixel."
   ]
  },
  {
   "cell_type": "code",
   "execution_count": null,
   "metadata": {},
   "outputs": [],
   "source": [
    "!pip install pandarallel --user"
   ]
  },
  {
   "cell_type": "code",
   "execution_count": 1,
   "metadata": {},
   "outputs": [],
   "source": [
    "import matplotlib.pyplot as plt\n",
    "from pandarallel import pandarallel\n",
    "import rasterio as rio\n",
    "import pandas as pd\n",
    "import numpy as np\n",
    "import glob\n",
    "import os"
   ]
  },
  {
   "cell_type": "code",
   "execution_count": 3,
   "metadata": {},
   "outputs": [
    {
     "name": "stdout",
     "output_type": "stream",
     "text": [
      "Loaded 378 rasters\n"
     ]
    }
   ],
   "source": [
    "index = pd.read_pickle('../../data/rasters.pkl')\n",
    "print('Loaded', len(index), 'rasters')"
   ]
  },
  {
   "cell_type": "code",
   "execution_count": 4,
   "metadata": {},
   "outputs": [
    {
     "name": "stdout",
     "output_type": "stream",
     "text": [
      "Loaded 1263 grids\n"
     ]
    }
   ],
   "source": [
    "grids = pd.read_pickle('../../data/grid_data.pkl')\n",
    "print('Loaded', len(grids), 'grids')"
   ]
  },
  {
   "cell_type": "markdown",
   "metadata": {},
   "source": [
    "#### Function to stack all of a grid's rasters.\n",
    "\n",
    "Creates a numpy array of shape: (num_rasters, 501, 501)\n",
    "\n",
    "Sorted temporally so that **stack[-1,:,:]** is the most recent image."
   ]
  },
  {
   "cell_type": "code",
   "execution_count": 24,
   "metadata": {},
   "outputs": [],
   "source": [
    "def stack_rasters(grid):\n",
    "    '''\n",
    "    Stacks the grid's rasters into one numpy array\n",
    "    DIMENSIONS:\n",
    "    0: time\n",
    "    1: x\n",
    "    2: y\n",
    "    '''\n",
    "    rasters = glob.glob('../../data/grids/' + str(grid.name) + '/*v3.0_dem.tif')  # grab all rasters\n",
    "    rasters.sort(key=lambda x: x.split('_')[2])  # sort the rasters by date acquired\n",
    "\n",
    "\n",
    "    arrays = []\n",
    "    for raster in rasters:\n",
    "        data = rio.open(raster).read(1) # Open Data        \n",
    "        mask = rio.open(raster).read_masks(1).astype(float)  # Open Mask\n",
    "        if data.shape != (501,501):\n",
    "            plt.imshow(data)\n",
    "            plt.show()\n",
    "            return\n",
    "\n",
    "#         # Calculate Amount of No Data (100 means no data at all)\n",
    "#         _, counts = np.unique(mask, return_counts=True)\n",
    "#         mask[mask==0] = np.nan\n",
    "#         nodata = counts[0] / (counts[0] + counts[1]) * 100\n",
    "        \n",
    "        # Apply Laser Altimetry Correction\n",
    "        raster_name = raster[raster.rfind('/')+1:raster.rfind('_')]\n",
    "        data = data + index.loc[raster_name]['dz']\n",
    "        data = data * mask / 255  # Mask the Data (no data becomes nan)\n",
    "    \n",
    "        arrays.append(data)\n",
    "    \n",
    "    stack = np.stack(arrays, axis=0)\n",
    "    return stack"
   ]
  },
  {
   "cell_type": "markdown",
   "metadata": {},
   "source": [
    "#### Function to calculate the standard deviation raster of a grid\n",
    "\n",
    "Pixel-level standard deviation used to identify bodies of water"
   ]
  },
  {
   "cell_type": "code",
   "execution_count": 7,
   "metadata": {},
   "outputs": [],
   "source": [
    "def get_std_raster(grid):\n",
    "    outfile = '../../data/standard_deviation/' + str(grid.name) + '.tif'\n",
    "    if os.path.exists(outfile):\n",
    "        return\n",
    "    \n",
    "    stack = stack_rasters(grid)  # Stack the rasters \n",
    "    std = np.apply_along_axis(np.nanstd, 0, stack)  # Calculate standard deviation\n",
    "    \n",
    "    metadata = rio.open('./data/grids/' + str(grid.name) + '/' + grid['rasters'][0] + '_dem.tif').meta  # Get Metadata\n",
    "    metadata.update({'dtype':'float64'})\n",
    "\n",
    "    # Write raster to file\n",
    "    with rio.open('./data/standard_deviation/' + str(grid.name) + '.tif', 'w', **metadata) as dst:\n",
    "        dst.write(std, 1)\n",
    "    return"
   ]
  }
 ],
 "metadata": {
  "kernelspec": {
   "display_name": "Python 3",
   "language": "python",
   "name": "python3"
  },
  "language_info": {
   "codemirror_mode": {
    "name": "ipython",
    "version": 3
   },
   "file_extension": ".py",
   "mimetype": "text/x-python",
   "name": "python",
   "nbconvert_exporter": "python",
   "pygments_lexer": "ipython3",
   "version": "3.6.7"
  }
 },
 "nbformat": 4,
 "nbformat_minor": 2
}
