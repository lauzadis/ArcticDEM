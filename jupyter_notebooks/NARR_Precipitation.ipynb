{
 "cells": [
  {
   "cell_type": "code",
   "execution_count": 21,
   "metadata": {},
   "outputs": [],
   "source": [
    "import wget\n",
    "from osgeo import gdal\n",
    "import rasterstats as rs\n",
    "import geopandas as gpd\n",
    "import pandas as pd\n",
    "import os\n",
    "import glob\n",
    "import sys"
   ]
  },
  {
   "cell_type": "markdown",
   "metadata": {},
   "source": [
    "## Download Daily NARR Precipitation Data (apcp)\n",
    "\n",
    "#### Find Year Range of our Strips"
   ]
  },
  {
   "cell_type": "code",
   "execution_count": 2,
   "metadata": {},
   "outputs": [],
   "source": [
    "index = pd.read_pickle('./Grids/data/index.pkl')"
   ]
  },
  {
   "cell_type": "code",
   "execution_count": 3,
   "metadata": {},
   "outputs": [
    {
     "data": {
      "text/plain": [
       "'2008-03-30'"
      ]
     },
     "execution_count": 3,
     "metadata": {},
     "output_type": "execute_result"
    }
   ],
   "source": [
    "index['acquisitio'].min()"
   ]
  },
  {
   "cell_type": "code",
   "execution_count": 4,
   "metadata": {},
   "outputs": [
    {
     "data": {
      "text/plain": [
       "'2017-09-03'"
      ]
     },
     "execution_count": 4,
     "metadata": {},
     "output_type": "execute_result"
    }
   ],
   "source": [
    "index['acquisitio'].max()"
   ]
  },
  {
   "cell_type": "code",
   "execution_count": 25,
   "metadata": {},
   "outputs": [
    {
     "name": "stdout",
     "output_type": "stream",
     "text": [
      "2007\n",
      "2008\n",
      "2009\n",
      "2010\n",
      "2011\n",
      "2012\n",
      "2013\n",
      "2014\n",
      "2015\n",
      "2016\n",
      "2017\n",
      "2018\n"
     ]
    }
   ],
   "source": [
    "out_dir = '../data/narr/netcdf/'\n",
    "\n",
    "if not os.path.exists(out_dir):\n",
    "    os.makedirs(out_dir)\n",
    "    \n",
    "url = 'ftp://ftp.cdc.noaa.gov/Datasets/NARR/Dailies/monolevel/apcp.'\n",
    "\n",
    "for year in range(2007, 2019):\n",
    "    print(year)\n",
    "    download_url = url + str(year) + '.nc'\n",
    "    outfile = out_dir + 'apcp.' + str(year) + '.nc'\n",
    "    wget.download(download_url, outfile)"
   ]
  },
  {
   "cell_type": "markdown",
   "metadata": {},
   "source": [
    "## Convert to GeoTIFF, Project to EPSG 3413"
   ]
  },
  {
   "cell_type": "code",
   "execution_count": 27,
   "metadata": {},
   "outputs": [
    {
     "name": "stdout",
     "output_type": "stream",
     "text": [
      "apcp.2007\n",
      "apcp.2008\n",
      "apcp.2009\n",
      "apcp.2010\n",
      "apcp.2011\n",
      "apcp.2012\n",
      "apcp.2013\n",
      "apcp.2014\n",
      "apcp.2015\n",
      "apcp.2016\n",
      "apcp.2017\n",
      "apcp.2018\n"
     ]
    }
   ],
   "source": [
    "epsg_3413 = '+proj=stere +lat_0=90 +lat_ts=70 +lon_0=-45 +k=1 +x_0=0 +y_0=0 +datum=WGS84 +units=m +no_defs' \n",
    "warp_options = gdal.WarpOptions(options = '-t_srs \\\"' + epsg_3413 + '\\\" -of GTiff')\n",
    "\n",
    "out_dir = '../data/narr/geotiff/'\n",
    "if not os.path.exists(out_dir):\n",
    "    os.makedirs(out_dir)\n",
    "\n",
    "for netcdf in glob.glob('../data/narr/netcdf/*.nc'):\n",
    "    name = netcdf[netcdf.rfind('/')+1:netcdf.rfind('.')]\n",
    "    print(name)\n",
    "    outfile = out_dir + name + '.geotiff'\n",
    "    ds = gdal.Warp(outfile, 'NETCDF:' + netcdf + ':apcp', options=warp_options)\n",
    "    ds = None"
   ]
  },
  {
   "cell_type": "markdown",
   "metadata": {},
   "source": [
    "## Extract Daily Bands"
   ]
  },
  {
   "cell_type": "code",
   "execution_count": 39,
   "metadata": {},
   "outputs": [
    {
     "name": "stdout",
     "output_type": "stream",
     "text": [
      "2007\n",
      "2008\n",
      "2009\n",
      "2010\n",
      "2011\n",
      "2012\n",
      "2013\n",
      "2014\n",
      "2015\n",
      "2016\n",
      "2017\n",
      "2018\n"
     ]
    }
   ],
   "source": [
    "# gdal.Translate(outfile, in_ds, options=translate_options)\n",
    "\n",
    "for geotiff in glob.glob('../data/narr/geotiff/*.geotiff'):\n",
    "    src = gdal.Open(geotiff)\n",
    "    \n",
    "    name = geotiff[geotiff.rfind('/')+1:geotiff.rfind('.')]\n",
    "    year = int(name[5:])\n",
    "    print(year)\n",
    "    \n",
    "    out_dir = '../data/narr/daily/' + str(year) + '/'\n",
    "    if not os.path.exists(out_dir):\n",
    "        os.makedirs(out_dir)\n",
    "        \n",
    "    num_bands = src.RasterCount\n",
    "                \n",
    "    for day in range(1, num_bands+1):\n",
    "        translate_options = gdal.TranslateOptions(options='-b ' + str(day) + ' -of GTiff')\n",
    "        outfile = out_dir + str(day) + '.geotiff'\n",
    "        gdal.Translate(outfile, src, options=translate_options)\n",
    "        \n",
    "        \n"
   ]
  },
  {
   "cell_type": "markdown",
   "metadata": {},
   "source": [
    "## Zonal Stats on Each Grid"
   ]
  },
  {
   "cell_type": "code",
   "execution_count": 5,
   "metadata": {},
   "outputs": [],
   "source": [
    "grids = gpd.read_file('../data/grid_shapefile/1km_filtered/filtered.shp')\n",
    "grids['id'] = grids['id'].astype(int)\n",
    "grids = grids.set_index('id', drop=True)"
   ]
  },
  {
   "cell_type": "code",
   "execution_count": 6,
   "metadata": {},
   "outputs": [
    {
     "data": {
      "text/html": [
       "<div>\n",
       "<style scoped>\n",
       "    .dataframe tbody tr th:only-of-type {\n",
       "        vertical-align: middle;\n",
       "    }\n",
       "\n",
       "    .dataframe tbody tr th {\n",
       "        vertical-align: top;\n",
       "    }\n",
       "\n",
       "    .dataframe thead th {\n",
       "        text-align: right;\n",
       "    }\n",
       "</style>\n",
       "<table border=\"1\" class=\"dataframe\">\n",
       "  <thead>\n",
       "    <tr style=\"text-align: right;\">\n",
       "      <th></th>\n",
       "      <th>left</th>\n",
       "      <th>top</th>\n",
       "      <th>right</th>\n",
       "      <th>bottom</th>\n",
       "      <th>geometry</th>\n",
       "    </tr>\n",
       "    <tr>\n",
       "      <th>id</th>\n",
       "      <th></th>\n",
       "      <th></th>\n",
       "      <th></th>\n",
       "      <th></th>\n",
       "      <th></th>\n",
       "    </tr>\n",
       "  </thead>\n",
       "  <tbody>\n",
       "    <tr>\n",
       "      <td>222</td>\n",
       "      <td>-2.138483e+06</td>\n",
       "      <td>624945.32479</td>\n",
       "      <td>-2.137483e+06</td>\n",
       "      <td>623945.32479</td>\n",
       "      <td>POLYGON ((-2138483.335 624945.325, -2137483.33...</td>\n",
       "    </tr>\n",
       "    <tr>\n",
       "      <td>742</td>\n",
       "      <td>-2.136483e+06</td>\n",
       "      <td>622945.32479</td>\n",
       "      <td>-2.135483e+06</td>\n",
       "      <td>621945.32479</td>\n",
       "      <td>POLYGON ((-2136483.335 622945.325, -2135483.33...</td>\n",
       "    </tr>\n",
       "    <tr>\n",
       "      <td>1000</td>\n",
       "      <td>-2.135483e+06</td>\n",
       "      <td>623945.32479</td>\n",
       "      <td>-2.134483e+06</td>\n",
       "      <td>622945.32479</td>\n",
       "      <td>POLYGON ((-2135483.335 623945.325, -2134483.33...</td>\n",
       "    </tr>\n",
       "    <tr>\n",
       "      <td>1750</td>\n",
       "      <td>-2.132483e+06</td>\n",
       "      <td>650945.32479</td>\n",
       "      <td>-2.131483e+06</td>\n",
       "      <td>649945.32479</td>\n",
       "      <td>POLYGON ((-2132483.335 650945.325, -2131483.33...</td>\n",
       "    </tr>\n",
       "    <tr>\n",
       "      <td>1777</td>\n",
       "      <td>-2.132483e+06</td>\n",
       "      <td>623945.32479</td>\n",
       "      <td>-2.131483e+06</td>\n",
       "      <td>622945.32479</td>\n",
       "      <td>POLYGON ((-2132483.335 623945.325, -2131483.33...</td>\n",
       "    </tr>\n",
       "    <tr>\n",
       "      <td>...</td>\n",
       "      <td>...</td>\n",
       "      <td>...</td>\n",
       "      <td>...</td>\n",
       "      <td>...</td>\n",
       "      <td>...</td>\n",
       "    </tr>\n",
       "    <tr>\n",
       "      <td>42524</td>\n",
       "      <td>-1.974483e+06</td>\n",
       "      <td>798945.32479</td>\n",
       "      <td>-1.973483e+06</td>\n",
       "      <td>797945.32479</td>\n",
       "      <td>POLYGON ((-1974483.335 798945.325, -1973483.33...</td>\n",
       "    </tr>\n",
       "    <tr>\n",
       "      <td>42782</td>\n",
       "      <td>-1.973483e+06</td>\n",
       "      <td>799945.32479</td>\n",
       "      <td>-1.972483e+06</td>\n",
       "      <td>798945.32479</td>\n",
       "      <td>POLYGON ((-1973483.335 799945.325, -1972483.33...</td>\n",
       "    </tr>\n",
       "    <tr>\n",
       "      <td>42783</td>\n",
       "      <td>-1.973483e+06</td>\n",
       "      <td>798945.32479</td>\n",
       "      <td>-1.972483e+06</td>\n",
       "      <td>797945.32479</td>\n",
       "      <td>POLYGON ((-1973483.335 798945.325, -1972483.33...</td>\n",
       "    </tr>\n",
       "    <tr>\n",
       "      <td>43033</td>\n",
       "      <td>-1.972483e+06</td>\n",
       "      <td>807945.32479</td>\n",
       "      <td>-1.971483e+06</td>\n",
       "      <td>806945.32479</td>\n",
       "      <td>POLYGON ((-1972483.335 807945.325, -1971483.33...</td>\n",
       "    </tr>\n",
       "    <tr>\n",
       "      <td>43553</td>\n",
       "      <td>-1.970483e+06</td>\n",
       "      <td>805945.32479</td>\n",
       "      <td>-1.969483e+06</td>\n",
       "      <td>804945.32479</td>\n",
       "      <td>POLYGON ((-1970483.335 805945.325, -1969483.33...</td>\n",
       "    </tr>\n",
       "  </tbody>\n",
       "</table>\n",
       "<p>1263 rows × 5 columns</p>\n",
       "</div>"
      ],
      "text/plain": [
       "               left           top         right        bottom  \\\n",
       "id                                                              \n",
       "222   -2.138483e+06  624945.32479 -2.137483e+06  623945.32479   \n",
       "742   -2.136483e+06  622945.32479 -2.135483e+06  621945.32479   \n",
       "1000  -2.135483e+06  623945.32479 -2.134483e+06  622945.32479   \n",
       "1750  -2.132483e+06  650945.32479 -2.131483e+06  649945.32479   \n",
       "1777  -2.132483e+06  623945.32479 -2.131483e+06  622945.32479   \n",
       "...             ...           ...           ...           ...   \n",
       "42524 -1.974483e+06  798945.32479 -1.973483e+06  797945.32479   \n",
       "42782 -1.973483e+06  799945.32479 -1.972483e+06  798945.32479   \n",
       "42783 -1.973483e+06  798945.32479 -1.972483e+06  797945.32479   \n",
       "43033 -1.972483e+06  807945.32479 -1.971483e+06  806945.32479   \n",
       "43553 -1.970483e+06  805945.32479 -1.969483e+06  804945.32479   \n",
       "\n",
       "                                                geometry  \n",
       "id                                                        \n",
       "222    POLYGON ((-2138483.335 624945.325, -2137483.33...  \n",
       "742    POLYGON ((-2136483.335 622945.325, -2135483.33...  \n",
       "1000   POLYGON ((-2135483.335 623945.325, -2134483.33...  \n",
       "1750   POLYGON ((-2132483.335 650945.325, -2131483.33...  \n",
       "1777   POLYGON ((-2132483.335 623945.325, -2131483.33...  \n",
       "...                                                  ...  \n",
       "42524  POLYGON ((-1974483.335 798945.325, -1973483.33...  \n",
       "42782  POLYGON ((-1973483.335 799945.325, -1972483.33...  \n",
       "42783  POLYGON ((-1973483.335 798945.325, -1972483.33...  \n",
       "43033  POLYGON ((-1972483.335 807945.325, -1971483.33...  \n",
       "43553  POLYGON ((-1970483.335 805945.325, -1969483.33...  \n",
       "\n",
       "[1263 rows x 5 columns]"
      ]
     },
     "execution_count": 6,
     "metadata": {},
     "output_type": "execute_result"
    }
   ],
   "source": [
    "grids"
   ]
  },
  {
   "cell_type": "code",
   "execution_count": 63,
   "metadata": {},
   "outputs": [],
   "source": [
    "precip = pd.DataFrame(columns=pd.date_range(start='01/01/2007', end='12/31/2018'), index=grids.index)"
   ]
  },
  {
   "cell_type": "code",
   "execution_count": null,
   "metadata": {},
   "outputs": [],
   "source": [
    "for year in range(2007, 2019):\n",
    "    for day_geotiff in glob.glob('../data/narr/daily/' + str(year) + '/*.geotiff'):\n",
    "        # Format the day into datetime\n",
    "        day = day_geotiff[day_geotiff.rfind('/')+1:day_geotiff.rfind('.')]\n",
    "        day = pd.to_datetime(day, format='%j')\n",
    "        day = day.replace(year=year).date()\n",
    "\n",
    "        # Extract the Data\n",
    "        data = rs.zonal_stats(grids, day_geotiff, stats=stats, all_touched=True)\n",
    "        data = pd.DataFrame.from_dict(data).set_index(grids.index).rename({'mean':day}, axis='columns')\n",
    "        precip[day] = data"
   ]
  }
 ],
 "metadata": {
  "kernelspec": {
   "display_name": "Python 3",
   "language": "python",
   "name": "python3"
  },
  "language_info": {
   "codemirror_mode": {
    "name": "ipython",
    "version": 3
   },
   "file_extension": ".py",
   "mimetype": "text/x-python",
   "name": "python",
   "nbconvert_exporter": "python",
   "pygments_lexer": "ipython3",
   "version": "3.6.7"
  }
 },
 "nbformat": 4,
 "nbformat_minor": 2
}
