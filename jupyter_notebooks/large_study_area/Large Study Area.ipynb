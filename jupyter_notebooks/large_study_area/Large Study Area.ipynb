{
 "cells": [
  {
   "cell_type": "markdown",
   "metadata": {},
   "source": [
    "## Purpose:\n",
    "\n",
    "Download the raster for a large study area and create average rasters, uncertainty map (a count of data-points used in the average), and standard deviation."
   ]
  },
  {
   "cell_type": "code",
   "execution_count": 3,
   "metadata": {},
   "outputs": [],
   "source": [
    "import pandas as pd\n",
    "import rasterio as rio\n",
    "import geopandas as gpd\n",
    "import shapely\n",
    "import shapely.wkt\n",
    "import matplotlib.pyplot as plt\n",
    "import numpy as np\n",
    "import os"
   ]
  },
  {
   "cell_type": "markdown",
   "metadata": {},
   "source": [
    "## Divide the Original Study Area into Quarters"
   ]
  },
  {
   "cell_type": "code",
   "execution_count": 103,
   "metadata": {},
   "outputs": [],
   "source": [
    "study_area = gpd.read_file('../../data/shapefiles/study_area.csv').iloc[0]['geometry']\n",
    "bounds = study_area.bounds\n",
    "length = bounds[2] - bounds[0]\n",
    "width = bounds[3] - bounds[1]\n",
    "\n",
    "box = shapely.geometry.box(bounds[0], bounds[1], bounds[0]+length/2, bounds[1]+width/2)\n",
    "\n",
    "with open('../../data/shapefiles/quarter.csv', 'w') as dst:\n",
    "    dst.write('wkt;\\n')\n",
    "    dst.write(str(box))\n"
   ]
  },
  {
   "cell_type": "markdown",
   "metadata": {},
   "source": [
    "## Filter the Index based on the New 'Study Area'"
   ]
  },
  {
   "cell_type": "code",
   "execution_count": 104,
   "metadata": {},
   "outputs": [],
   "source": [
    "index = gpd.read_file('../../data/shapefiles/ArcticDEM_Strip_Index_Rel7/ArcticDEM_Strip_Index_Rel7.shp')"
   ]
  },
  {
   "cell_type": "code",
   "execution_count": 105,
   "metadata": {},
   "outputs": [],
   "source": [
    "index = index[['name', 'fileurl', 'acquisitio', 'dx', 'dy', 'dz', 'geometry']]\n",
    "index = index.set_index('name', drop=True)"
   ]
  },
  {
   "cell_type": "code",
   "execution_count": 109,
   "metadata": {},
   "outputs": [],
   "source": [
    "def check_geom(strip):\n",
    "    if strip['geometry'].intersects(box):\n",
    "        return True\n",
    "    return False"
   ]
  },
  {
   "cell_type": "code",
   "execution_count": 110,
   "metadata": {},
   "outputs": [],
   "source": [
    "index = index.loc[index.apply(check_geom, axis='columns')]"
   ]
  },
  {
   "cell_type": "code",
   "execution_count": 114,
   "metadata": {},
   "outputs": [],
   "source": [
    "out_dir = '../../data/shapefiles/large_study_area/'\n",
    "if not os.path.exists(out_dir):\n",
    "    os.makedirs(out_dir)\n",
    "    \n",
    "index.to_file(out_dir + 'larger_area.shp')"
   ]
  },
  {
   "cell_type": "markdown",
   "metadata": {},
   "source": [
    "## Loop Over and Create Uncertainty Mask\n",
    "This will be a count of the number of rasters covering each pixel"
   ]
  },
  {
   "cell_type": "code",
   "execution_count": 7,
   "metadata": {},
   "outputs": [
    {
     "data": {
      "text/plain": [
       "'http://data.pgc.umn.edu/elev/dem/setsm/ArcticDEM/geocell/v3.0/2m/n70w153/SETSM_GE01_20120812_10504100007CE100_1050410000778700_seg1_2m_v3.0.tar.gz'"
      ]
     },
     "execution_count": 7,
     "metadata": {},
     "output_type": "execute_result"
    }
   ],
   "source": [
    "index = gpd.read_file('../../data/shapefiles/large_study_area/larger_area.shp')\n",
    "index.iloc[0]['fileurl']"
   ]
  },
  {
   "cell_type": "code",
   "execution_count": null,
   "metadata": {},
   "outputs": [],
   "source": []
  }
 ],
 "metadata": {
  "kernelspec": {
   "display_name": "Python 3",
   "language": "python",
   "name": "python3"
  },
  "language_info": {
   "codemirror_mode": {
    "name": "ipython",
    "version": 3
   },
   "file_extension": ".py",
   "mimetype": "text/x-python",
   "name": "python",
   "nbconvert_exporter": "python",
   "pygments_lexer": "ipython3",
   "version": "3.6.7"
  }
 },
 "nbformat": 4,
 "nbformat_minor": 2
}
